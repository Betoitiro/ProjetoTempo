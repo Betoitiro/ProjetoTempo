{
 "cells": [
  {
   "cell_type": "code",
   "execution_count": 1,
   "metadata": {},
   "outputs": [
    {
     "name": "stdout",
     "output_type": "stream",
     "text": [
      "Requirement already satisfied: requests in c:\\users\\itiro\\anaconda3\\lib\\site-packages (2.28.1)Note: you may need to restart the kernel to use updated packages.\n",
      "\n",
      "Requirement already satisfied: certifi>=2017.4.17 in c:\\users\\itiro\\anaconda3\\lib\\site-packages (from requests) (2022.12.7)\n",
      "Requirement already satisfied: idna<4,>=2.5 in c:\\users\\itiro\\anaconda3\\lib\\site-packages (from requests) (3.4)\n",
      "Requirement already satisfied: charset-normalizer<3,>=2 in c:\\users\\itiro\\anaconda3\\lib\\site-packages (from requests) (2.0.4)\n",
      "Requirement already satisfied: urllib3<1.27,>=1.21.1 in c:\\users\\itiro\\anaconda3\\lib\\site-packages (from requests) (1.26.14)\n"
     ]
    }
   ],
   "source": [
    "pip install requests"
   ]
  },
  {
   "cell_type": "code",
   "execution_count": 2,
   "metadata": {},
   "outputs": [],
   "source": [
    "import requests"
   ]
  },
  {
   "cell_type": "code",
   "execution_count": 7,
   "metadata": {},
   "outputs": [
    {
     "name": "stdout",
     "output_type": "stream",
     "text": [
      "Digite o nome da cidade: joão pessoa -pb\n",
      "Não foi possível obter as informações meteorológicas para a cidade informada.\n"
     ]
    }
   ],
   "source": [
    "import requests\n",
    "from datetime import datetime\n",
    "\n",
    "cidade = input(\"Digite o nome da cidade: \")\n",
    "api_key = 'f4fd48a14fbc3515ce08b19319cb6a16'\n",
    "\n",
    "url = f'http://api.openweathermap.org/data/2.5/weather?q={cidade}&appid=f4fd48a14fbc3515ce08b19319cb6a16&units=metric'\n",
    "response = requests.get(url)\n",
    "\n",
    "if response.status_code == 200:\n",
    "    data = response.json()\n",
    "    condicoes = data['weather'][0]['main']\n",
    "    temperatura = data['main']['temp']\n",
    "    hora_atual = datetime.now().strftime('%H:%M:%S')\n",
    "\n",
    "    if condicoes == 'Rain':\n",
    "        print(f'Em {cidade} está chovendo, com uma temperatura de {temperatura}°C, às {hora_atual}.')\n",
    "    elif condicoes == 'Clear':\n",
    "        print(f'Em {cidade} está com o ceu limpo, com uma temperatura de {temperatura}°C, às {hora_atual}.')\n",
    "    elif condicoes == 'Clouds':\n",
    "        print(f'Em {cidade} está nublado, com uma temperatura de {temperatura}°C, às {hora_atual}.')\n",
    "    else:\n",
    "        print(f'As condições do tempo em {cidade} são {condicoes}, com uma temperatura de {temperatura}°C, às {hora_atual}.')\n",
    "else:\n",
    "    print(\"Não foi possível obter as informações meteorológicas para a cidade informada.\")\n"
   ]
  },
  {
   "cell_type": "code",
   "execution_count": null,
   "metadata": {},
   "outputs": [],
   "source": []
  }
 ],
 "metadata": {
  "kernelspec": {
   "display_name": "Python 3 (ipykernel)",
   "language": "python",
   "name": "python3"
  },
  "language_info": {
   "codemirror_mode": {
    "name": "ipython",
    "version": 3
   },
   "file_extension": ".py",
   "mimetype": "text/x-python",
   "name": "python",
   "nbconvert_exporter": "python",
   "pygments_lexer": "ipython3",
   "version": "3.10.9"
  }
 },
 "nbformat": 4,
 "nbformat_minor": 2
}
